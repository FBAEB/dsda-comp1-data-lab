{
 "cells": [
  {
   "cell_type": "markdown",
   "metadata": {
    "collapsed": true,
    "pycharm": {
     "name": "#%% md\n"
    }
   },
   "source": [
    "# Database Basics\n",
    "\n",
    "In this labsheet, you will use a relational database as a data source rather than a file.\n",
    "\n",
    "Please add your own notes into this file which you can upload as evidence to APTEM."
   ]
  },
  {
   "cell_type": "markdown",
   "metadata": {},
   "source": [
    "## Task 1 - Accessing data in a database\n",
    "\n",
    "There are many relational databases from different vendors.  We will be using [MySQL](http://example.com/).\n",
    "\n",
    "You need some software to be able to make the network connection between your machine and the database which is hosted on a Azure which is Microsoft's cloud hosting service.\n",
    "\n",
    "Usually, for security reasons, you would never host a database directly on the public Internet. It would be extremely likely that someone with malicious intent would seek to gain access to that database or start a denial of service attack by trying to overload that service. Typically a database server would be hidden behind multiple files which only allow access from systems that need to access it.\n",
    "\n",
    "For the purposes of this course I have exposed the database to the public Internet so that each of you can access the server from home or work. In our case the worst that could happen is that someone could tempt you with our data or take the server down. In which case I will create a new one and repopulate the data.  There is no confidential or private data stored on the server.\n",
    "\n",
    "You will need to know the network address at which the database can be contacted. This is\n",
    "\n",
    "dsda-mysql.mysql.database.azure.com\n",
    "\n",
    "The network traffic that he sent from your computer to that server needs to be directed to a specific port.  Different applications listen to different ports. Example standard web traffic is usually on port 80.  Emails are sent on port 23.  MySQL, by defaul, listens on port 3306.  IANA (Internet Assigned Numbers Authority) maintain a huge [huge list](https://www.iana.org/assignments/service-names-port-numbers/service-names-port-numbers.xhtml) of official port numbers.\n",
    "\n",
    "So, we are going to contact the servcer on\n",
    "\n",
    "dsda-mysql.mysql.database.azure.com:3306\n",
    "\n",
    "You will also need some credential to access this server.  There are a variety of complex and very secure means of [authentication methods](https://dev.mysql.com/doc/dev/mysql-server/latest/page_protocol_connection_phase_authentication_methods.html) but for simplicty we will stick to a simple username and password.  As a data scientist, you need to become expert in accessing databases, but not necessarily in setting them up.  Leave that to the Ops team!\n",
    "\n",
    "Your username for this excercise will be your Uon username (e.g. pszsk1) and your password will be your student number.\n",
    "\n",
    "You are welcome to use any database access too you wish.  There is a database client built into PyCharm.  Later we will connect programmatically from python.  Whatever you use, they all will all minimally require the same info outlined above.  Server, Port, Username, Password.\n",
    "\n",
    "To start with you can access the database using MySQL Workbench.  You can install this yourself, but it is available on the University of Nottingham [Virtual Desktop](https://www.nottingham.ac.uk/dts/communications/remote-working/virtual-desktop.aspx).\n",
    "\n",
    "I've provided a video walkthrough which you can follow if it helps."
   ]
  },
  {
   "cell_type": "markdown",
   "source": [
    "## Task 2 : Executing Queries\n",
    "\n",
    "Now you have a connection, try run some SQL Queries.  Enter the query, and then execute it.  It will be sent to the server which will run the query and send the results back over the network.\n",
    "\n",
    "Always remember when you connect to issue a `USE tyres` to specify which database you want to work with.\n",
    "\n",
    "Have a look the tyres table to examine the fields and their data types.\n",
    "\n",
    "`DESCRIBE tyres`\n",
    "\n",
    "Start simple, and just select everything:\n",
    "\n",
    "`SELECT * FROM tyres`\n",
    "\n",
    "This query has no FROM clause so everything will be retrieved.\n",
    "\n",
    "In general, you would like the hard work to be done on the server, and minimise the amount of network traffic resulting from lots of queries, so you usually specify a `WHERE` clause.\n",
    "\n",
    "Let's say we'd like to find all the car models which have tyres with tubes in.\n",
    "\n",
    "`SELECT Model, Submodel FROM tyres WHERE tyres.type = \"Tube\"`\n",
    "\n",
    "It might be easier to see the results sorted.  This can be achieved using the `ORDER BY` clause.\n",
    "\n",
    "`SELECT Model, Submodel FROM tyres WHERE tyres.type = \"Tube\" ORDER BY Model, Submodel`\n",
    "\n",
    "You will now notice that there are duplicates.  Let's get rid of these as we aren't interested in every single row, we just want the distinct set of different models.\n",
    "\n",
    "`SELECT DISTINCT Model, Submodel FROM tyres WHERE tyres.type = \"Tube\" ORDER BY Model, Submodel`\n",
    "\n",
    "This is still quite a long list, so maybe we would like to see some summary information.  We could just count how many models have tubes.\n",
    "\n",
    "`SELECT COUNT(DISTINCT Model, Submodel) FROM tyres WHERE tyres.type = \"Tube\" ORDER BY Model, Submodel`\n",
    "\n",
    "But, now we've gone from too much detail to too little.  So, can we find out how many of each Model with Tubed tyres are there?  This time we can use GROUP BY clause which will summarise the counts by model.\n",
    "\n",
    "`SELECT COUNT(*) FROM tyres WHERE tyres.type = \"Tube\" GROUP BY Model`\n",
    "\n",
    "What do you notice?  We have the counts, but don't know what they relate to.  We need to specify the Model in the SELECT.\n",
    "\n",
    "`SELECT Model, COUNT(*) FROM tyres WHERE tyres.type = \"Tube\" GROUP BY Model`\n",
    "\n",
    "Can you change this query to sort the results table by the Model name, or the Count?\n",
    "\n",
    "We have already shown how we can set conditions in the `WHERE` clause that need to be met, but can we set a conditon on summary statistics.  We can use the `HAVING` keyword. So if we're only interested in the models with more than 10 versions with tubed tyres, we can do this:\n",
    "\n",
    "`SELECT Model, COUNT(*) FROM tyres WHERE tyres.type = \"Tube\" GROUP BY Model HAVING COUNT(*)>=10`\n",
    "\n",
    "You can find lots more information about the `SELECT` statement at [www.w3schools.com](https://www.w3schools.com/mysql/mysql_select.asp).  Use this to find out how to change the sort order between ascending and descending order.\n",
    "\n",
    "For full details, the `SELECT` statement is documented in the [MySQL Reference Manual](https://dev.mysql.com/doc/refman/8.0/en/select.html)\n"
   ],
   "metadata": {
    "collapsed": false
   }
  },
  {
   "cell_type": "markdown",
   "metadata": {
    "pycharm": {
     "name": "#%% md\n"
    }
   },
   "source": [
    "## Task 3: Create your own Queries\n",
    "\n",
    "Hopefully you understood the queries above, and had the opportunity to play around with them and adjust them.\n",
    "\n",
    "In this task you will come up with your own select statements to answer questions about the data.\n",
    "\n",
    "1. Return the Tyre_Brand, SerialNo and Size of all tyres rated 4 or above.\n",
    "2. Return all the columns for rows where the original price is differen from the selling price.\n",
    "3. How many different tyre sizes are there?\n",
    "4. How many vehicles with each tyre size are there?  Put them in descending order of size."
   ]
  }
 ],
 "metadata": {
  "kernelspec": {
   "display_name": "Python 3 (ipykernel)",
   "language": "python",
   "name": "python3"
  },
  "language_info": {
   "codemirror_mode": {
    "name": "ipython",
    "version": 3
   },
   "file_extension": ".py",
   "mimetype": "text/x-python",
   "name": "python",
   "nbconvert_exporter": "python",
   "pygments_lexer": "ipython3",
   "version": "3.9.7"
  }
 },
 "nbformat": 4,
 "nbformat_minor": 1
}